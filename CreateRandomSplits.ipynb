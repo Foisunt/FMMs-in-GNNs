{
 "cells": [
  {
   "cell_type": "code",
   "execution_count": 5,
   "id": "a23b1e11-69ad-4ebf-80ad-397748eb6bcf",
   "metadata": {},
   "outputs": [],
   "source": [
    "import torch\n",
    "import numpy as np\n",
    "from torch_geometric.datasets import Planetoid, Amazon\n",
    "from pathlib import Path\n",
    "from tqdm import tqdm"
   ]
  },
  {
   "cell_type": "code",
   "execution_count": 2,
   "id": "aabfcae7-9104-4d5d-a845-3787f6459523",
   "metadata": {},
   "outputs": [],
   "source": [
    "#create onw plantetoid split (per class 20 train, 30 val, others test)\n",
    "def create_pl_split(ds_name):\n",
    "    #dataset = Planetoid(root='dataset/', name=ds_name)\n",
    "    dataset = Amazon(root='dataset/', name=ds_name)\n",
    "    \n",
    "    y = dataset[0].y.cpu().detach().numpy()\n",
    "    unique, counts = np.unique(y, return_counts=True)\n",
    "    splits = {}\n",
    "    for seed in tqdm(range(100)):\n",
    "        rng = np.random.default_rng(seed)\n",
    "        train = []\n",
    "        val = []\n",
    "        test = []\n",
    "\n",
    "        for cl in unique:\n",
    "            tmp = np.argwhere(y==cl)\n",
    "            rng.shuffle(tmp)\n",
    "            train.append(tmp[:20])\n",
    "            val.append(tmp[20:50])\n",
    "            test.append(tmp[50:])\n",
    "\n",
    "        train_ix = np.concatenate(train)\n",
    "        val_ix = np.concatenate(val)\n",
    "        test_ix = np.concatenate(test)\n",
    "\n",
    "        train = torch.full_like(dataset[0].y, False, dtype=torch.bool)\n",
    "        train[train_ix] = True\n",
    "        val = torch.full_like(dataset[0].y, False, dtype=torch.bool)\n",
    "        val[val_ix] = True\n",
    "        test = torch.full_like(dataset[0].y, False, dtype=torch.bool)\n",
    "        test[test_ix] = True\n",
    "        splits[seed] = {\"train_mask\":train, \"val_mask\":val, \"test_mask\": test}\n",
    "    torch.save(splits,\"dataset/\"+ds_name+\"/own_pl_splits.pt\")\n"
   ]
  },
  {
   "cell_type": "code",
   "execution_count": 3,
   "id": "c6161557-fb12-4221-b47f-461ab83a7fa1",
   "metadata": {},
   "outputs": [],
   "source": [
    "#create own \"full supervised\" split (see gcn2 paper) (per class 60% train, 20% val, 20% test)\n",
    "def create_622_split(ds_name):\n",
    "    #dataset = Planetoid(root='dataset/', name=ds_name)\n",
    "    dataset = Amazon(root='dataset/', name=ds_name)\n",
    "    \n",
    "    \n",
    "    y = dataset[0].y.cpu().detach().numpy()\n",
    "    unique, counts = np.unique(y, return_counts=True)\n",
    "    splits = {}\n",
    "    for seed in tqdm(range(100)):\n",
    "        rng = np.random.default_rng(seed)\n",
    "        train = []\n",
    "        val = []\n",
    "        test = []\n",
    "\n",
    "        for cl in unique:\n",
    "            tmp = np.argwhere(y==cl)\n",
    "            c1 = int(len(tmp)*.6)\n",
    "            c2 = int(len(tmp)*.8)\n",
    "            rng.shuffle(tmp)\n",
    "            train.append(tmp[:c1])\n",
    "            val.append(tmp[c1:c2])\n",
    "            test.append(tmp[c2:])\n",
    "\n",
    "        train_ix = np.concatenate(train)\n",
    "        val_ix = np.concatenate(val)\n",
    "        test_ix = np.concatenate(test)\n",
    "\n",
    "        train = torch.full_like(dataset[0].y, False, dtype=torch.bool)\n",
    "        train[train_ix] = True\n",
    "        val = torch.full_like(dataset[0].y, False, dtype=torch.bool)\n",
    "        val[val_ix] = True\n",
    "        test = torch.full_like(dataset[0].y, False, dtype=torch.bool)\n",
    "        test[test_ix] = True\n",
    "        splits[seed] = {\"train_mask\":train, \"val_mask\":val, \"test_mask\": test}\n",
    "    torch.save(splits,\"dataset/\"+ds_name+\"/own_622_splits.pt\")"
   ]
  },
  {
   "cell_type": "code",
   "execution_count": 4,
   "id": "504a37dc-fa91-416b-97e1-9c483495c548",
   "metadata": {},
   "outputs": [
    {
     "name": "stderr",
     "output_type": "stream",
     "text": [
      "100%|█████████████████████████████████████████████████████████████████████████████████████████████| 100/100 [00:00<00:00, 272.45it/s]\n",
      "100%|█████████████████████████████████████████████████████████████████████████████████████████████| 100/100 [00:00<00:00, 271.72it/s]\n"
     ]
    }
   ],
   "source": [
    "create_pl_split(\"Cora\")\n",
    "create_622_split(\"Cora\")"
   ]
  },
  {
   "cell_type": "code",
   "execution_count": 5,
   "id": "c5b000d2-2e10-43e9-b37d-08ebb45cd44e",
   "metadata": {},
   "outputs": [
    {
     "name": "stderr",
     "output_type": "stream",
     "text": [
      "100%|█████████████████████████████████████████████████████████████████████████████████████████████| 100/100 [00:00<00:00, 221.54it/s]\n",
      "100%|█████████████████████████████████████████████████████████████████████████████████████████████| 100/100 [00:00<00:00, 221.89it/s]\n"
     ]
    }
   ],
   "source": [
    "create_pl_split(\"Citeseer\")\n",
    "create_622_split(\"Citeseer\")"
   ]
  },
  {
   "cell_type": "code",
   "execution_count": 6,
   "id": "c8cc45d0-1de3-4efd-8cbc-41447ee49ce1",
   "metadata": {},
   "outputs": [
    {
     "name": "stderr",
     "output_type": "stream",
     "text": [
      "100%|██████████████████████████████████████████████████████████████████████████████████████████████| 100/100 [00:02<00:00, 37.81it/s]\n",
      "100%|██████████████████████████████████████████████████████████████████████████████████████████████| 100/100 [00:02<00:00, 37.65it/s]\n"
     ]
    }
   ],
   "source": [
    "create_pl_split(\"PubMed\")\n",
    "create_622_split(\"PubMed\")"
   ]
  },
  {
   "cell_type": "code",
   "execution_count": 17,
   "id": "010b4a82-a401-42cb-a812-33e8f2c1d6d7",
   "metadata": {},
   "outputs": [],
   "source": [
    "#d = torch.load(\"dataset/Cora/own_splits.pt\")"
   ]
  },
  {
   "cell_type": "code",
   "execution_count": 6,
   "id": "3777043d-b31c-40b8-9518-696b07a49658",
   "metadata": {},
   "outputs": [
    {
     "name": "stderr",
     "output_type": "stream",
     "text": [
      "100%|██████████████████████████████████████████████████████████████████████████████████████████████████████████████████| 100/100 [00:02<00:00, 34.01it/s]\n",
      "100%|██████████████████████████████████████████████████████████████████████████████████████████████████████████████████| 100/100 [00:02<00:00, 35.08it/s]\n"
     ]
    }
   ],
   "source": [
    "create_pl_split(\"Computers\")\n",
    "create_622_split(\"Computers\")"
   ]
  },
  {
   "cell_type": "code",
   "execution_count": 8,
   "id": "40dcaca0-594f-48f9-92f8-b8fe0e561614",
   "metadata": {},
   "outputs": [
    {
     "name": "stderr",
     "output_type": "stream",
     "text": [
      "Downloading https://github.com/shchur/gnn-benchmark/raw/master/data/npz/amazon_electronics_photo.npz\n",
      "Processing...\n",
      "Done!\n",
      "100%|██████████████████████████████████████████████████████████████████████████████████████████████████████████████████| 100/100 [00:02<00:00, 45.46it/s]\n",
      "100%|██████████████████████████████████████████████████████████████████████████████████████████████████████████████████| 100/100 [00:02<00:00, 47.29it/s]\n"
     ]
    }
   ],
   "source": [
    "create_pl_split(\"Photo\")\n",
    "create_622_split(\"Photo\")"
   ]
  },
  {
   "cell_type": "code",
   "execution_count": null,
   "id": "86919d36-d977-42c4-8d39-769358970ecf",
   "metadata": {},
   "outputs": [],
   "source": []
  },
  {
   "cell_type": "code",
   "execution_count": 1,
   "id": "ea7a00e2-251b-4a40-96d2-a7514c315d3c",
   "metadata": {},
   "outputs": [],
   "source": [
    "import torch\n",
    "from ogb.nodeproppred import PygNodePropPredDataset\n",
    "\n",
    "import torch_geometric.transforms as T\n",
    "from torch_geometric.nn.conv.gcn_conv import gcn_norm\n",
    "from torch_sparse import SparseTensor\n"
   ]
  },
  {
   "cell_type": "code",
   "execution_count": 2,
   "id": "07ab7158-b7a7-45c5-aea9-ddeaa8c4d65b",
   "metadata": {},
   "outputs": [],
   "source": [
    "device = \"cpu\"\n",
    "ds = PygNodePropPredDataset(name = \"ogbn-arxiv\", root = 'dataset/')\n",
    "dat = ds[0].to(device)\n",
    "transform = T.Compose([T.ToUndirected(), T.AddSelfLoops()])\n",
    "dat = transform(dat)\n",
    "nnodes = dat.y.shape[0]\n",
    "edge_index, edge_weight = gcn_norm(dat.edge_index, edge_weight=None, num_nodes=nnodes)"
   ]
  },
  {
   "cell_type": "code",
   "execution_count": 3,
   "id": "2203adf4-6fb5-4bf3-8d1b-dab530ae8f64",
   "metadata": {},
   "outputs": [],
   "source": [
    "A = SparseTensor(row=edge_index[0], col=edge_index[1], value=edge_weight, sparse_sizes=(nnodes, nnodes)).to(device)\n",
    "tmp = A"
   ]
  },
  {
   "cell_type": "code",
   "execution_count": 4,
   "id": "b2d422ec-815f-4206-8718-d1fd84a5cc5b",
   "metadata": {},
   "outputs": [],
   "source": [
    "tmp = tmp.matmul(A).to_dense() #save as r=2, unidir=true\n",
    "#torch.save(tmp, \"dataset/ogbn_arxiv/A2_undir_dense.pt\")"
   ]
  },
  {
   "cell_type": "code",
   "execution_count": null,
   "id": "fd096ec6-f8ff-46aa-aa1b-a8356c999edd",
   "metadata": {},
   "outputs": [],
   "source": [
    "tmp = tmp.matmul(A.to_dense()) #save as r=3, unidir=true\n",
    "torch.save(tmp, \"dataset/ogbn_arxiv/A3_undir_dense.pt\")"
   ]
  },
  {
   "cell_type": "code",
   "execution_count": null,
   "id": "9edf59da-c655-475f-9e8b-2a46345dc5a5",
   "metadata": {},
   "outputs": [],
   "source": []
  },
  {
   "cell_type": "code",
   "execution_count": 2,
   "id": "c9ff2e49-4544-4131-8690-c827e23784d7",
   "metadata": {},
   "outputs": [],
   "source": [
    "from time import perf_counter"
   ]
  },
  {
   "cell_type": "code",
   "execution_count": 3,
   "id": "0e3f1fa2-37a9-48fd-8751-f926b2eef76b",
   "metadata": {},
   "outputs": [
    {
     "name": "stdout",
     "output_type": "stream",
     "text": [
      "35.91642682696693\n",
      "33.58859628601931\n"
     ]
    }
   ],
   "source": [
    "pth = \"dataset/ogbn_arxiv/A3_undir_sparse.pt\"\n",
    "t1 = perf_counter()\n",
    "tmp = torch.load(pth)\n",
    "t2 = perf_counter()\n",
    "print(t2-t1)\n",
    "tmp = tmp.to_dense()\n",
    "t3 = perf_counter()\n",
    "print(t3-t2)"
   ]
  },
  {
   "cell_type": "code",
   "execution_count": 4,
   "id": "0ad59c4d-43a8-4f8c-a892-1784f8094969",
   "metadata": {},
   "outputs": [],
   "source": [
    "pth = \"dataset/ogbn_arxiv/A3_undir_dense.pt\"\n",
    "torch.save(tmp, pth)"
   ]
  },
  {
   "cell_type": "code",
   "execution_count": 5,
   "id": "46b7185f-d9ac-4073-aabf-3daa75310007",
   "metadata": {},
   "outputs": [
    {
     "name": "stdout",
     "output_type": "stream",
     "text": [
      "42.549946828978136\n"
     ]
    }
   ],
   "source": [
    "t1 = perf_counter()\n",
    "tmp = torch.load(pth)\n",
    "t2 = perf_counter()\n",
    "print(t2-t1)"
   ]
  },
  {
   "cell_type": "code",
   "execution_count": null,
   "id": "219eda58-0ffe-4751-a66b-d7dc882dd0e8",
   "metadata": {},
   "outputs": [],
   "source": []
  },
  {
   "cell_type": "code",
   "execution_count": null,
   "id": "2ae62b33-39e7-4829-89c3-a1542108cde0",
   "metadata": {},
   "outputs": [],
   "source": []
  },
  {
   "cell_type": "code",
   "execution_count": null,
   "id": "1a0b9e56-2796-4bea-87f4-4e6cafc383a1",
   "metadata": {},
   "outputs": [],
   "source": []
  },
  {
   "cell_type": "code",
   "execution_count": 2,
   "id": "0b2e3369-2683-4766-a71e-1772c8153e2f",
   "metadata": {},
   "outputs": [],
   "source": [
    "device = \"cpu\"\n",
    "ds = PygNodePropPredDataset(name = \"ogbn-arxiv\", root = 'dataset/')\n",
    "dat = ds[0].to(device)\n",
    "transform = T.Compose([T.ToUndirected(), T.AddSelfLoops()])\n",
    "dat = transform(dat)\n",
    "nnodes = dat.y.shape[0]\n",
    "edge_index, edge_weight = gcn_norm(dat.edge_index, edge_weight=None, num_nodes=nnodes)"
   ]
  },
  {
   "cell_type": "code",
   "execution_count": 3,
   "id": "0b3fab99-53bc-4952-b1b9-e775f2dc7692",
   "metadata": {},
   "outputs": [],
   "source": [
    "A = SparseTensor(row=edge_index[0], col=edge_index[1], value=edge_weight, sparse_sizes=(nnodes, nnodes)).to(device)\n",
    "tmp = A"
   ]
  },
  {
   "cell_type": "code",
   "execution_count": 4,
   "id": "e53c97a5-3e9b-4db5-b5d2-c4a57bfced41",
   "metadata": {},
   "outputs": [],
   "source": [
    "tmp = tmp.matmul(A) #save as r=2, unidir=true"
   ]
  },
  {
   "cell_type": "code",
   "execution_count": 6,
   "id": "31f9f388-dc99-4b8c-b61a-a886267d7b3d",
   "metadata": {},
   "outputs": [],
   "source": [
    "torch.save(tmp, \"dataset/ogbn_arxiv/A2_undir_sparse.pt\")"
   ]
  },
  {
   "cell_type": "code",
   "execution_count": 8,
   "id": "859a107c-4c0d-4b8c-a0e2-33481d9e57dc",
   "metadata": {},
   "outputs": [],
   "source": [
    "tmp = tmp.matmul(A) #save as r=3, unidir=true\n",
    "torch.save(tmp, \"dataset/ogbn_arxiv/A3_undir_sparse.pt\")"
   ]
  },
  {
   "cell_type": "code",
   "execution_count": 9,
   "id": "9f6b276e-5b07-4348-a1c6-78d5f2e4d6ae",
   "metadata": {},
   "outputs": [
    {
     "data": {
      "text/plain": [
       "SparseTensor(row=tensor([     0,      0,      0,  ..., 169342, 169342, 169342]),\n",
       "             col=tensor([     0,      2,      4,  ..., 169340, 169341, 169342]),\n",
       "             val=tensor([8.3572e-03, 9.6971e-08, 2.0686e-08,  ..., 1.1591e-07, 1.1025e-07,\n",
       "                           1.8022e-02]),\n",
       "             size=(169343, 169343), nnz=7820075259, density=27.27%)"
      ]
     },
     "execution_count": 9,
     "metadata": {},
     "output_type": "execute_result"
    }
   ],
   "source": [
    "tmp"
   ]
  },
  {
   "cell_type": "code",
   "execution_count": 2,
   "id": "1c8b9b81-0ad9-488f-8854-1e0daeba483a",
   "metadata": {},
   "outputs": [],
   "source": [
    "device = \"cpu\"\n",
    "ds = PygNodePropPredDataset(name = \"ogbn-arxiv\", root = 'dataset/')\n",
    "dat = ds[0].to(device)\n",
    "nnodes = dat.y.shape[0]\n",
    "edge_index, edge_weight = gcn_norm(dat.edge_index, edge_weight=None, num_nodes=nnodes)"
   ]
  },
  {
   "cell_type": "code",
   "execution_count": 3,
   "id": "a44c7ba4-d677-4a01-93eb-185b2b32697c",
   "metadata": {},
   "outputs": [],
   "source": [
    "A = SparseTensor(row=edge_index[0], col=edge_index[1], value=edge_weight, sparse_sizes=(nnodes, nnodes)).to(device)\n",
    "tmp = A"
   ]
  },
  {
   "cell_type": "code",
   "execution_count": 4,
   "id": "0d272b51-7394-4de0-8afd-e4b1bad2fb10",
   "metadata": {},
   "outputs": [],
   "source": [
    "tmp = tmp.matmul(A) #save as r=2, unidir=false\n",
    "torch.save(tmp, \"dataset/ogbn_arxiv/A2_dir_sparse.pt\")"
   ]
  },
  {
   "cell_type": "code",
   "execution_count": 5,
   "id": "49e5d7bd-7e84-473e-b3e7-6102d5a3fdb3",
   "metadata": {},
   "outputs": [
    {
     "data": {
      "text/plain": [
       "SparseTensor(row=tensor([     0,      0,      0,  ..., 169342, 169342, 169342]),\n",
       "             col=tensor([     0,  14528,  52893,  ...,  36609, 158981, 169342]),\n",
       "             val=tensor([1.1891e-05, 1.9943e-03, 8.8689e-04,  ..., 8.9992e-03, 1.5798e-01,\n",
       "                           1.0000e+00]),\n",
       "             size=(169343, 169343), nnz=9172516, density=0.03%)"
      ]
     },
     "execution_count": 5,
     "metadata": {},
     "output_type": "execute_result"
    }
   ],
   "source": [
    "tmp"
   ]
  },
  {
   "cell_type": "code",
   "execution_count": 6,
   "id": "7b7e4464-af68-4065-a188-96a63cc33875",
   "metadata": {},
   "outputs": [],
   "source": [
    "tmp = tmp.matmul(A) #save as r=3, unidir=true\n",
    "torch.save(tmp, \"dataset/ogbn_arxiv/A3_dir_sparse.pt\")"
   ]
  },
  {
   "cell_type": "code",
   "execution_count": 7,
   "id": "487b8738-d5a0-46e6-a168-5a3f5e708260",
   "metadata": {},
   "outputs": [
    {
     "data": {
      "text/plain": [
       "SparseTensor(row=tensor([     0,      0,      0,  ..., 169342, 169342, 169342]),\n",
       "             col=tensor([     0,  14528,  52893,  ...,  36609, 158981, 169342]),\n",
       "             val=tensor([4.1002e-08, 7.8896e-04, 5.2339e-05,  ..., 1.0499e-02, 1.5859e-01,\n",
       "                           1.0000e+00]),\n",
       "             size=(169343, 169343), nnz=36571955, density=0.13%)"
      ]
     },
     "execution_count": 7,
     "metadata": {},
     "output_type": "execute_result"
    }
   ],
   "source": [
    "tmp"
   ]
  }
 ],
 "metadata": {
  "kernelspec": {
   "display_name": "Python 3 (ipykernel)",
   "language": "python",
   "name": "python3"
  },
  "language_info": {
   "codemirror_mode": {
    "name": "ipython",
    "version": 3
   },
   "file_extension": ".py",
   "mimetype": "text/x-python",
   "name": "python",
   "nbconvert_exporter": "python",
   "pygments_lexer": "ipython3",
   "version": "3.8.10"
  }
 },
 "nbformat": 4,
 "nbformat_minor": 5
}
